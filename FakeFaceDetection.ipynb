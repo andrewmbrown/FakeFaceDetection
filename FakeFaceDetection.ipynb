{
 "cells": [
  {
   "cell_type": "markdown",
   "metadata": {},
   "source": [
    "# Project - Fake Face Detection\n",
    "Andrew Brown - 20070987 - 17amb@queensu.ca"
   ]
  },
  {
   "cell_type": "markdown",
   "metadata": {},
   "source": [
    "My understanding of the project:\n",
    "Input: a SET of 3 face images (left, center, right), the set is either all REAL or all FAKE\n",
    "Output: predict if the entire set is real or fake\n",
    "\n",
    "Method:\n",
    "1. haar-cascade detection to isolate the face in each image, crop this image\n",
    "2. Using SIFT, match the cropped image with the left and right (take note of how many matches) \n",
    "if there are low matches, this is an indicator the image is REAL \n",
    "high matches indicate FAKE because the planar face allows for it\n",
    "3. Take homography and perspective transform of the center image to the left and right \n",
    "if we are not able to find a match ... suggestes real image since we could not transform to the non planar destination\n",
    "\n",
    "Assumptions:\n",
    "1. the images are organized as (n{C}, n{L}, n{R} ... ) for reading in images i am using the letters {} to determine which image it is\n",
    "2. Dataset was missing 1Lr (i duplicated 12Lr and made it 1Lr for completeness)\n",
    "3. if a center image isnt detected properly using haar cascades (for image cropping) then the entire set must be discarded, or fixed\n",
    "\n",
    "Editing comment for github exercise"
   ]
  },
  {
   "cell_type": "code",
   "execution_count": 78,
   "metadata": {},
   "outputs": [],
   "source": [
    "from __future__ import print_function\n",
    "import cv2\n",
    "import sys\n",
    "import os\n",
    "from os.path import isfile, join\n",
    "import numpy as np\n",
    "import matplotlib\n",
    "from matplotlib import pyplot as plt\n",
    "import argparse"
   ]
  },
  {
   "cell_type": "code",
   "execution_count": 79,
   "metadata": {},
   "outputs": [],
   "source": [
    "# CONSTANTS\n",
    "REAL_FACES_DIR = 'C:\\\\Users\\\\prof.brown\\\\Desktop\\\\OneDrive\\\\QueensUniversity\\\\FourthYear\\\\FirstSemester\\\\ELEC474\\\\Project_Brown\\\\real'\n",
    "FAKE_FACES_DIR = 'C:\\\\Users\\\\prof.brown\\\\Desktop\\\\OneDrive\\\\QueensUniversity\\\\FourthYear\\\\FirstSemester\\\\ELEC474\\\\Project_Brown\\\\fake'\n",
    "# Paths will need to change root directory\n",
    "\n",
    "# paths have double backslash for windows dir\n",
    "# discovered_ratio = 0.00015 # anything below is real\n",
    "discovered_ratio = 0.00034\n",
    "answer = [1, 1, 1, 1, 1, 1, 1, 1, 1, 1, 1, 1, -1, -1, -1, -1, -1, -1, -1, -1, -1, -1, -1, -1]\n",
    "#answer = [1, 1, 1, 1, 1, -1, -1, -1, -1, -1]"
   ]
  },
  {
   "cell_type": "code",
   "execution_count": 80,
   "metadata": {},
   "outputs": [],
   "source": [
    "def cascade_crop(img_path):\n",
    "    \"\"\"\n",
    "    Using a haar-cascade, iterate through each center image, detect a face and crop the image\n",
    "    \"\"\"\n",
    "    # Load the cascade\n",
    "    face_cascade = cv2.CascadeClassifier('haarcascade_frontalface_default.xml')\n",
    "    # Read the input image\n",
    "    img = cv2.imread(img_path)\n",
    "    img = cv2.cvtColor(img, cv2.COLOR_BGR2RGB)  # handles pyplot printing issues\n",
    "    # Convert into grayscale\n",
    "    gray = cv2.cvtColor(img, cv2.COLOR_BGR2GRAY)\n",
    "    # Detect faces\n",
    "    faces = face_cascade.detectMultiScale(gray, 1.1, 4, cv2.CASCADE_FIND_BIGGEST_OBJECT)\n",
    "    \n",
    "    try:\n",
    "        (a, b, c, d) = faces[0]\n",
    "    except:\n",
    "        print(\"unable to find any faces in center image: \")\n",
    "        print(img_path)\n",
    "        return -1\n",
    "    \n",
    "    # only take the biggest rectangle -> case handling if more than one detection\n",
    "    \n",
    "    max_area = 0\n",
    "    for face in faces:\n",
    "        area = face[2] * face[3]  # w * h\n",
    "        if area > max_area:\n",
    "            biggest_face = [face]  # [] allows it to be unpacked\n",
    "    \n",
    "    # Draw rectangle around the faces\n",
    "    \n",
    "    (x, y, w, h) = biggest_face[0]\n",
    "    crop_img = gray[y:y+h, x:x+w]\n",
    "    # cv2.rectangle(img, (x, y), (x+w, y+h), (255, 0, 0), 2)\n",
    "    # Display the output\n",
    "    #plt.imshow(crop_img, cmap='gray')\n",
    "    #plt.show()\n",
    "    return crop_img"
   ]
  },
  {
   "cell_type": "code",
   "execution_count": 81,
   "metadata": {},
   "outputs": [],
   "source": [
    "def parse_imgs(DIR, DIR2):\n",
    "    \"\"\"\n",
    "    Going through two directories DIR, DIR2 (real and fake respectively)\n",
    "    load each file name to be tested\n",
    "    \"\"\"\n",
    "    center = []\n",
    "    left = []\n",
    "    right = []\n",
    "    for filename in os.listdir(DIR):\n",
    "        if filename.endswith(\".jpg\") or filename.endswith(\".png\"):  # if the file is a picture\n",
    "            if 'C' in filename:  # center\n",
    "                center.append(os.path.join(DIR, filename))\n",
    "            elif 'L' in filename:  # left\n",
    "                left.append(os.path.join(DIR, filename))\n",
    "            elif 'R' in filename:  # right\n",
    "                right.append(os.path.join(DIR, filename))\n",
    "            else:\n",
    "                pass\n",
    "    for filename in os.listdir(DIR2):\n",
    "        if filename.endswith(\".jpg\") or filename.endswith(\".png\"):  # if the file is a picture\n",
    "            if 'C' in filename:  # center\n",
    "                center.append(os.path.join(DIR2, filename))\n",
    "            elif 'L' in filename:  # left\n",
    "                left.append(os.path.join(DIR2, filename))\n",
    "            elif 'R' in filename:  # right\n",
    "                right.append(os.path.join(DIR2, filename))\n",
    "            else:\n",
    "                pass    \n",
    "    return center, left, right"
   ]
  },
  {
   "cell_type": "code",
   "execution_count": 82,
   "metadata": {},
   "outputs": [],
   "source": [
    "def matching(img1, img2):\n",
    "    \"\"\"\n",
    "    function to return key points, descriptors, and Lowe's ratio matches\n",
    "    Assuming images are passed in as grayscale\n",
    "    \"\"\"    \n",
    "    # instantiate feature detector SIFT\n",
    "    sift = cv2.SIFT_create()  \n",
    "    img1_keypoints, img1_descriptors = sift.detectAndCompute(img1, None)\n",
    "    img2_keypoints, img2_descriptors = sift.detectAndCompute(img2, None)\n",
    "        \n",
    "    # Create brute force matches\n",
    "    bf = cv2.BFMatcher()\n",
    "\n",
    "    # match descriptors\n",
    "    matches = bf.knnMatch(img1_descriptors, img2_descriptors, k=2)\n",
    "\n",
    "    # draw the matches\n",
    "    # img = cv2.drawMatchesKnn(img1, img1_keypoints, img2, img2_keypoints, matches, None)\n",
    "    # cv2.imshow(\"KNN matches\", img)\n",
    "    # cv2.waitKey(0)\n",
    "    # cv2.destroyAllWindows()\n",
    "    \n",
    "    # lowe's ratio \n",
    "    good = []\n",
    "    good_distance = []\n",
    "    lowes = []  # to be returned for affine transformation\n",
    "    distances = []\n",
    "    \n",
    "    #print(len(matches))\n",
    "    #print(\"ratio: \" + str((len(matches)/pix) * 100))\n",
    "    \n",
    "    for m,n in matches:\n",
    "        distances.append(m.distance)\n",
    "        if m.distance < 0.8*n.distance:\n",
    "            good.append([m])  # for drawing\n",
    "            lowes.append(m)  # return to affine transformation\n",
    "    \n",
    "    # draw the matches\n",
    "    #img = cv2.drawMatchesKnn(img1, img1_keypoints, img2, img2_keypoints, good, None)\n",
    "    #cv2.imshow(\"Lowe's Matches\", img)\n",
    "    #cv2.waitKey(0)\n",
    "    #cv2.destroyAllWindows()\n",
    "    \n",
    "    return img1_keypoints, img1_descriptors, img2_keypoints, img2_descriptors, lowes"
   ]
  },
  {
   "cell_type": "code",
   "execution_count": 83,
   "metadata": {},
   "outputs": [],
   "source": [
    "def matching_exploration(img1, img2, pix):\n",
    "    \"\"\"\n",
    "    Identical to matching SIFT function but returns amount of matches for calculating ratio\n",
    "    \"\"\"    \n",
    "    # instantiate feature detector SIFT\n",
    "    sift = cv2.SIFT_create()  \n",
    "    img1_keypoints, img1_descriptors = sift.detectAndCompute(img1, None)\n",
    "    img2_keypoints, img2_descriptors = sift.detectAndCompute(img2, None)\n",
    "        \n",
    "    # Create brute force matches\n",
    "    bf = cv2.BFMatcher()\n",
    "\n",
    "    # match descriptors\n",
    "    matches = bf.knnMatch(img1_descriptors, img2_descriptors, k=2)\n",
    "    \n",
    "    # lowe's ratio \n",
    "    good = []\n",
    "    good_distance = []\n",
    "    lowes = []  # to be returned for affine transformation\n",
    "    distances = []\n",
    "    \n",
    "    for m,n in matches:\n",
    "        distances.append(m.distance)\n",
    "        if m.distance < 0.8*n.distance:\n",
    "            good.append([m])  # for drawing\n",
    "            lowes.append(m)  # return to affine transformation\n",
    "    #img = cv2.drawMatchesKnn(img1, img1_keypoints, img2, img2_keypoints, good, None)\n",
    "    #cv2.imshow(\"Lowe's Matches\", img)\n",
    "    #cv2.waitKey(0)\n",
    "    #cv2.destroyAllWindows()\n",
    "    length = len(good)\n",
    "    return length"
   ]
  },
  {
   "cell_type": "code",
   "execution_count": 84,
   "metadata": {},
   "outputs": [],
   "source": [
    "def perspective_transform(reference, test):\n",
    "    \"\"\"\n",
    "    Function to apply perspective transforms to 4 corners of reference image\n",
    "    \"\"\"    \n",
    "    rows,cols = test.shape\n",
    "    # reference is the cropped image\n",
    "    try:\n",
    "        kp1, ds1, kp2, ds2, lowe_matches = matching(reference, test)\n",
    "        ref_pts = np.float32([kp1[m.queryIdx].pt for m in lowe_matches]).reshape(-1, 1, 2)\n",
    "        img_pts = np.float32([kp2[m.trainIdx].pt for m in lowe_matches]).reshape(-1, 1, 2)\n",
    "        homo_trans_mat, not_used_mask = cv2.findHomography(ref_pts, img_pts, cv2.RANSAC,5.0)  # values from opencv documentation\n",
    "        four_corners = np.array([[0,0], [reference.shape[0], 0], [reference.shape[0], reference.shape[1]], [0, reference.shape[1]]], np.float32)\n",
    "        four_corners = four_corners.reshape(-1, 1, 2).astype(np.float32)\n",
    "        #print(four_corners)\n",
    "        #print(homo_trans_mat)\n",
    "    except:\n",
    "        return 1  # failed, image is real\n",
    "    \n",
    "    # checking to see if problem with fundamental matrix or four corners\n",
    "    try:\n",
    "        dst = cv2.perspectiveTransform(four_corners, homo_trans_mat)\n",
    "        #print(dst)\n",
    "    except:\n",
    "        return 1  # failed, image is real\n",
    "   \n",
    "    #dst = cv2.warpPerspective(reference, homo_trans_mat, (rows, cols))\n",
    "    return(clockwise_test(dst))  # check for order of points, if clockwise, image is fake"
   ]
  },
  {
   "cell_type": "code",
   "execution_count": 85,
   "metadata": {},
   "outputs": [],
   "source": [
    "def clockwise_test(points):\n",
    "    \"\"\"\n",
    "    Import transformed points and check to see if they make a clockwise or counter clockwise polygon\n",
    "    \"\"\"\n",
    "    running_sum = 0\n",
    "    #print(points.shape)\n",
    "    points = points.reshape(-1, 2)\n",
    "    #print(points)\n",
    "    for i, point in enumerate(points):\n",
    "        try:\n",
    "            x = points[i][1]\n",
    "            y = points[i][0]\n",
    "            x_plusone = points[i+1][1]\n",
    "            y_plusone = points[i+1][0]\n",
    "            #print(x, y, x_plusone, y_plusone)\n",
    "        except:\n",
    "            x_plusone = points[i][1]  # points wrap\n",
    "            y_plusone = points[i][0]  # points wrap\n",
    "        running_sum = running_sum + ((x_plusone - x) * (y_plusone + y))\n",
    "    # print(running_sum)\n",
    "    if running_sum > 0:  # clockwise\n",
    "        return 1\n",
    "    else:\n",
    "        return -1"
   ]
  },
  {
   "cell_type": "code",
   "execution_count": 86,
   "metadata": {},
   "outputs": [],
   "source": [
    "def experiment_SIFT_matching(c, l, r, predictions, discovery):\n",
    "    \"\"\"\n",
    "    Function to iterate in parallel fashion\n",
    "    args: c (already in image format), l, r (both l and r are still directory paths to file names)\n",
    "    \n",
    "    Driver code for SIFT matching function. Filters results based on matches/amount of pixels\n",
    "    \"\"\"\n",
    "    match_count = []\n",
    "    pix = []\n",
    "    for center_crop, left_img, right_img in zip(c, l, r):\n",
    "        pix_area = center_crop.shape[0] * center_crop.shape[1]\n",
    "        pix.append(pix_area)\n",
    "        pix.append(pix_area)\n",
    "        \n",
    "        in_left = cv2.imread(left_img)\n",
    "        in_left = cv2.cvtColor(in_left, cv2.COLOR_BGR2GRAY)\n",
    "        count_left = matching_exploration(center_crop, in_left, pix_area)\n",
    "        match_count.append(count_left)\n",
    "        \n",
    "        in_right = cv2.imread(right_img)\n",
    "        in_right = cv2.cvtColor(in_right, cv2.COLOR_BGR2GRAY)\n",
    "        count_right = matching_exploration(center_crop, in_right, pix_area)\n",
    "        match_count.append(count_right)\n",
    "        \n",
    "        if (count_left/pix_area > discovery) and (count_right/pix_area > discovery):  # image should have homography applied\n",
    "            predictions.append(0)  # undetermined\n",
    "            print(\"probably fake, needs homography\")\n",
    "        else:\n",
    "            predictions.append(1)  # real\n",
    "            print(\"predicting real\")\n",
    "    \n",
    "    match_count = np.asarray(match_count)\n",
    "    pix = np.asarray(pix)\n",
    "    \n",
    "    ratios = np.divide(match_count, pix)\n",
    "    # two ratios per each set, if either is less than \n",
    "    \n",
    "    var = np.var(ratios)\n",
    "    sigma = np.std(ratios)\n",
    "    two_sigma = 2 * sigma\n",
    "    \n",
    "    m, b = np.polyfit(pix, match_count, 1)\n",
    "    plt.title(\"pixel count/area vs number of matches\")\n",
    "    plt.scatter(pix, match_count)\n",
    "    \n",
    "    plt.plot(pix, m*pix + b)\n",
    "    plt.show()\n",
    "    \n",
    "    ratio = np.mean(ratios)\n",
    "    print(\"ratio - sigma: \" + str(ratio - sigma))\n",
    "    print(\"ratio: \" + '\\t\\t' + str(ratio))\n",
    "    print(\"ratio + sigma: \" + str(ratio + sigma))\n",
    "    return predictions"
   ]
  },
  {
   "cell_type": "code",
   "execution_count": 87,
   "metadata": {},
   "outputs": [],
   "source": [
    "def experiment_homography(c, l, r, predictions):\n",
    "    \"\"\"\n",
    "    Function to iterate in parallel fashion\n",
    "    args: c (already in image format), l, r (both l and r are still directory paths to file names)\n",
    "    \n",
    "    Driver code for perspective transform function. Classifies based on four corners transformation\n",
    "    \"\"\"\n",
    "    final_prediction = []\n",
    "    for center_crop, left_img, right_img, prediction in zip(c, l, r, predictions):\n",
    "        if prediction == 1:  # prediction has been determined real, don't need homography\n",
    "            final_prediction.append(1)\n",
    "            continue\n",
    "        in_left = cv2.imread(left_img)\n",
    "        in_left = cv2.cvtColor(in_left, cv2.COLOR_BGR2GRAY)\n",
    "        out_left = perspective_transform(center_crop, in_left)\n",
    "        \n",
    "        in_right = cv2.imread(right_img)\n",
    "        in_right = cv2.cvtColor(in_right, cv2.COLOR_BGR2GRAY)\n",
    "        out_right = perspective_transform(center_crop, in_right)\n",
    "        if (out_left > 0) and (out_right > 0):\n",
    "            final_prediction.append(-1)\n",
    "            print(\"fake image\")\n",
    "        else:\n",
    "            final_prediction.append(1)\n",
    "            print(\"real image\")\n",
    "    return final_prediction"
   ]
  },
  {
   "cell_type": "code",
   "execution_count": 88,
   "metadata": {},
   "outputs": [],
   "source": [
    "def confusion_matrix(ans, pred):\n",
    "    \"\"\"\n",
    "    input: bit vector of answers and predictions \n",
    "    create confusion matrix based off predictions\n",
    "    1 = real image\n",
    "    -1 = fake image\n",
    "    \"\"\"\n",
    "    tp = 0\n",
    "    fp = 0\n",
    "    tn = 0\n",
    "    fn = 0\n",
    "    for a, p in zip(ans, pred):\n",
    "        if a == 1 and p == 1:\n",
    "            tp = tp + 1\n",
    "        elif a == -1 and p == 1:\n",
    "            fp = fp + 1\n",
    "        elif a == -1 and p == -1:\n",
    "            tn = tn + 1\n",
    "        elif a == 1 and p == -1:\n",
    "            fn = fn + 1\n",
    "    precision = tp / (tp + fp)\n",
    "    recall = tp / (tp + fn)\n",
    "    print(str(tn) + '\\t' + str(fp))\n",
    "    print(str(fn) + '\\t' + str(tp))\n",
    "    print(\"precision: \" + str(precision))\n",
    "    print(\"recall: \" + str(recall))\n",
    "    return"
   ]
  },
  {
   "cell_type": "code",
   "execution_count": 89,
   "metadata": {},
   "outputs": [],
   "source": [
    "c_unknown, l_unknown, r_unknown = parse_imgs(REAL_FACES_DIR, FAKE_FACES_DIR)\n",
    "#c_fake, l_fake, r_fake = parse_imgs(FAKE_FACES_DIR)"
   ]
  },
  {
   "cell_type": "code",
   "execution_count": 90,
   "metadata": {},
   "outputs": [],
   "source": [
    "c_unknown_crop = []\n",
    "predictions = []\n",
    "for image in c_unknown:\n",
    "    c_unknown_crop.append(cascade_crop(image))\n",
    "#for image in c_fake:\n",
    "#    c_fake_crop.append(cascade_crop(image))"
   ]
  },
  {
   "cell_type": "code",
   "execution_count": 91,
   "metadata": {},
   "outputs": [
    {
     "name": "stdout",
     "output_type": "stream",
     "text": [
      "predicting real\n",
      "predicting real\n",
      "predicting real\n",
      "predicting real\n",
      "predicting real\n",
      "predicting real\n",
      "predicting real\n",
      "predicting real\n",
      "predicting real\n",
      "predicting real\n",
      "predicting real\n",
      "predicting real\n",
      "probably fake, needs homography\n",
      "probably fake, needs homography\n",
      "probably fake, needs homography\n",
      "probably fake, needs homography\n",
      "probably fake, needs homography\n",
      "probably fake, needs homography\n",
      "probably fake, needs homography\n",
      "probably fake, needs homography\n",
      "probably fake, needs homography\n",
      "probably fake, needs homography\n",
      "probably fake, needs homography\n",
      "probably fake, needs homography\n"
     ]
    },
    {
     "data": {
      "image/png": "[encoded data removed]",
      "text/plain": [
       "<Figure size 432x288 with 1 Axes>"
      ]
     },
     "metadata": {
      "needs_background": "light"
     },
     "output_type": "display_data"
    },
    {
     "name": "stdout",
     "output_type": "stream",
     "text": [
      "ratio - sigma: 4.7511068180456154e-05\n",
      "ratio: \t\t0.000862963309279242\n",
      "ratio + sigma: 0.0016784155503780278\n",
      "[1, 1, 1, 1, 1, 1, 1, 1, 1, 1, 1, 1, 0, 0, 0, 0, 0, 0, 0, 0, 0, 0, 0, 0]\n"
     ]
    }
   ],
   "source": [
    "predictions = []\n",
    "sift_predictions = experiment_SIFT_matching(c_unknown_crop, l_unknown, r_unknown, predictions, discovered_ratio)\n",
    "print(sift_predictions)"
   ]
  },
  {
   "cell_type": "code",
   "execution_count": 92,
   "metadata": {},
   "outputs": [
    {
     "name": "stdout",
     "output_type": "stream",
     "text": [
      "[1, 1, 1, 1, 1, 1, 1, 1, 1, 1, 1, 1, 0, 0, 0, 0, 0, 0, 0, 0, 0, 0, 0, 0]\n"
     ]
    }
   ],
   "source": [
    "print(sift_predictions)"
   ]
  },
  {
   "cell_type": "code",
   "execution_count": 93,
   "metadata": {},
   "outputs": [
    {
     "name": "stdout",
     "output_type": "stream",
     "text": [
      "fake image\n",
      "fake image\n",
      "fake image\n",
      "fake image\n",
      "fake image\n",
      "fake image\n",
      "fake image\n",
      "fake image\n",
      "fake image\n",
      "fake image\n",
      "fake image\n",
      "fake image\n"
     ]
    }
   ],
   "source": [
    "final_prediction = experiment_homography(c_unknown_crop, l_unknown, r_unknown, sift_predictions)"
   ]
  },
  {
   "cell_type": "code",
   "execution_count": 94,
   "metadata": {},
   "outputs": [
    {
     "data": {
      "text/plain": [
       "[1,\n",
       " 1,\n",
       " 1,\n",
       " 1,\n",
       " 1,\n",
       " 1,\n",
       " 1,\n",
       " 1,\n",
       " 1,\n",
       " 1,\n",
       " 1,\n",
       " 1,\n",
       " -1,\n",
       " -1,\n",
       " -1,\n",
       " -1,\n",
       " -1,\n",
       " -1,\n",
       " -1,\n",
       " -1,\n",
       " -1,\n",
       " -1,\n",
       " -1,\n",
       " -1]"
      ]
     },
     "execution_count": 94,
     "metadata": {},
     "output_type": "execute_result"
    }
   ],
   "source": [
    "final_prediction"
   ]
  },
  {
   "cell_type": "code",
   "execution_count": 95,
   "metadata": {},
   "outputs": [
    {
     "name": "stdout",
     "output_type": "stream",
     "text": [
      "12\t0\n",
      "0\t12\n",
      "precision: 1.0\n",
      "recall: 1.0\n"
     ]
    }
   ],
   "source": [
    "confusion_matrix(answer, final_prediction)"
   ]
  },
  {
   "cell_type": "code",
   "execution_count": null,
   "metadata": {},
   "outputs": [],
   "source": []
  }
 ],
 "metadata": {
  "kernelspec": {
   "display_name": "Python 3",
   "language": "python",
   "name": "python3"
  },
  "language_info": {
   "codemirror_mode": {
    "name": "ipython",
    "version": 3
   },
   "file_extension": ".py",
   "mimetype": "text/x-python",
   "name": "python",
   "nbconvert_exporter": "python",
   "pygments_lexer": "ipython3",
   "version": "3.8.5"
  }
 },
 "nbformat": 4,
 "nbformat_minor": 4
}